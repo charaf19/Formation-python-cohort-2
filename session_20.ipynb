{
  "nbformat": 4,
  "nbformat_minor": 0,
  "metadata": {
    "colab": {
      "provenance": []
    },
    "kernelspec": {
      "name": "python3",
      "display_name": "Python 3"
    },
    "language_info": {
      "name": "python"
    }
  },
  "cells": [
    {
      "cell_type": "markdown",
      "source": [
        "# Try except (try-catch)"
      ],
      "metadata": {
        "id": "JqOSR4uhcHhO"
      }
    },
    {
      "cell_type": "code",
      "execution_count": 1,
      "metadata": {
        "colab": {
          "base_uri": "https://localhost:8080/"
        },
        "id": "wj2myN9za2su",
        "outputId": "d5829d25-9a52-4aae-c533-ba0edeb473c1"
      },
      "outputs": [
        {
          "output_type": "stream",
          "name": "stdout",
          "text": [
            "can't divide by zero\n"
          ]
        }
      ],
      "source": [
        "try:\n",
        "  result = 10/0\n",
        "except ZeroDivisionError:\n",
        "  print(\"can't divide by zero\")"
      ]
    },
    {
      "cell_type": "markdown",
      "source": [
        "without try-except expression"
      ],
      "metadata": {
        "id": "nf-IOnwqchnY"
      }
    },
    {
      "cell_type": "code",
      "source": [
        "result =10/0"
      ],
      "metadata": {
        "colab": {
          "base_uri": "https://localhost:8080/",
          "height": 144
        },
        "id": "2ZzN1tqLcdmX",
        "outputId": "0ee53c59-8fd9-4a05-dcf0-11ae16b07356"
      },
      "execution_count": 2,
      "outputs": [
        {
          "output_type": "error",
          "ename": "ZeroDivisionError",
          "evalue": "division by zero",
          "traceback": [
            "\u001b[0;31m---------------------------------------------------------------------------\u001b[0m",
            "\u001b[0;31mZeroDivisionError\u001b[0m                         Traceback (most recent call last)",
            "\u001b[0;32m<ipython-input-2-b4e73b5c8687>\u001b[0m in \u001b[0;36m<cell line: 0>\u001b[0;34m()\u001b[0m\n\u001b[0;32m----> 1\u001b[0;31m \u001b[0mresult\u001b[0m \u001b[0;34m=\u001b[0m\u001b[0;36m10\u001b[0m\u001b[0;34m/\u001b[0m\u001b[0;36m0\u001b[0m\u001b[0;34m\u001b[0m\u001b[0;34m\u001b[0m\u001b[0m\n\u001b[0m",
            "\u001b[0;31mZeroDivisionError\u001b[0m: division by zero"
          ]
        }
      ]
    },
    {
      "cell_type": "markdown",
      "source": [
        "## Exercice"
      ],
      "metadata": {
        "id": "rp5FjdImc7jN"
      }
    },
    {
      "cell_type": "markdown",
      "source": [
        "take number from the user and make the devision and make sure that when it enters 0 it gives us a message instead of error"
      ],
      "metadata": {
        "id": "ZUCdHCmncpZj"
      }
    },
    {
      "cell_type": "code",
      "source": [
        "a = int(input(\"enter the first number to divide(a/b) and it should be posivite (a)\"))\n",
        "b = int(input(\"enter the first number to divide(a/b) and it should be posivite (b)\"))\n",
        "if (a<0) or (b<0):\n",
        "  print('the numbers should be in the same sign')\n",
        "else:\n",
        "  try :\n",
        "    result = a/b\n",
        "  except ZeroDivisionError as e:\n",
        "    print(f\"you entred a zero an the error as follows {e}\")\n",
        "print(result)"
      ],
      "metadata": {
        "colab": {
          "base_uri": "https://localhost:8080/"
        },
        "id": "5GNDIw-Hcgjg",
        "outputId": "d6443b51-e144-4241-cc02-99b237e1a986"
      },
      "execution_count": 12,
      "outputs": [
        {
          "output_type": "stream",
          "name": "stdout",
          "text": [
            "enter the first number to divide(a/b) and it should be posivite (a)1\n",
            "enter the first number to divide(a/b) and it should be posivite (b)0\n",
            "you entred a zero an the error as follows division by zero\n",
            "0.5\n"
          ]
        }
      ]
    },
    {
      "cell_type": "markdown",
      "source": [
        "# Multiple exceptions"
      ],
      "metadata": {
        "id": "sF54ZrbgclaB"
      }
    },
    {
      "cell_type": "code",
      "source": [
        "\n",
        "class Claculator:\n",
        "  def __init__(self,name,model):\n",
        "    self.name = name\n",
        "    self.model = model\n",
        "  def calculate_score(self):\n",
        "    try :\n",
        "      n = int(input(\"enter a nimber\"))\n",
        "      print(100/n)\n",
        "    except ZeroDivisionError:\n",
        "      print(\"error ; division by zero is not correct \")\n",
        "    except ValueError:\n",
        "      print('please enter a valid number')\n",
        "\n",
        "\n",
        "\n",
        "\n",
        "\n",
        "casio = Claculator(\"casio\", 2020)\n",
        "casio.calculate_score()"
      ],
      "metadata": {
        "colab": {
          "base_uri": "https://localhost:8080/"
        },
        "id": "MUYT7qmSj9XH",
        "outputId": "c9a83ab2-3bdb-470d-821b-f9269d120a88"
      },
      "execution_count": 25,
      "outputs": [
        {
          "output_type": "stream",
          "name": "stdout",
          "text": [
            "enter a nimber2\n",
            "50.0\n"
          ]
        }
      ]
    },
    {
      "cell_type": "markdown",
      "source": [
        "# Class Method and static Method"
      ],
      "metadata": {
        "id": "NBoiiKPxoefA"
      }
    },
    {
      "cell_type": "code",
      "source": [
        "class User:\n",
        "  count = 0 #class variable\n",
        "  def __init__(self,name):\n",
        "    self.name = name\n",
        "    User.count +=1\n",
        "  # @ evrything starts with @ is a dunder method\n",
        "  # classmethod give us access to  class level variables\n",
        "  @classmethod\n",
        "  def get_user_count(cls):\n",
        "     return cls.count\n",
        "  #act like a utility function\n",
        "  @staticmethod\n",
        "  def welcome_message(self):\n",
        "    return \"welcom!!\"\n",
        "\n",
        "\n"
      ],
      "metadata": {
        "id": "18Sm2KojkijG"
      },
      "execution_count": 27,
      "outputs": []
    },
    {
      "cell_type": "code",
      "source": [
        "u1 = User(\"ali\")\n",
        "u2 = User(\"fatima\")"
      ],
      "metadata": {
        "id": "LJ-G2QaKl1mI"
      },
      "execution_count": 28,
      "outputs": []
    },
    {
      "cell_type": "code",
      "source": [
        "User.get_user_count()"
      ],
      "metadata": {
        "colab": {
          "base_uri": "https://localhost:8080/"
        },
        "id": "LhSUIB8GqPeL",
        "outputId": "c84ee494-33dc-43f9-8479-6bcec68e97fc"
      },
      "execution_count": 29,
      "outputs": [
        {
          "output_type": "execute_result",
          "data": {
            "text/plain": [
              "2"
            ]
          },
          "metadata": {},
          "execution_count": 29
        }
      ]
    },
    {
      "cell_type": "code",
      "source": [
        "u3 = User(\"housam\")\n",
        "User.get_user_count()"
      ],
      "metadata": {
        "colab": {
          "base_uri": "https://localhost:8080/"
        },
        "id": "cT-XMUttqUqZ",
        "outputId": "f8cf95a2-bffe-49c6-fb43-32944e5d843e"
      },
      "execution_count": 30,
      "outputs": [
        {
          "output_type": "execute_result",
          "data": {
            "text/plain": [
              "3"
            ]
          },
          "metadata": {},
          "execution_count": 30
        }
      ]
    },
    {
      "cell_type": "markdown",
      "source": [
        "# Dunder Methods - Magic Methods"
      ],
      "metadata": {
        "id": "UL53V3Kgq3hd"
      }
    },
    {
      "cell_type": "code",
      "source": [
        "class Book:\n",
        "  def __init__(self,title,pages):\n",
        "    self.title = title\n",
        "    self.pages = pages\n",
        "\n",
        "  def __str__(self):\n",
        "    return f\"this book name is {self.title}\"\n",
        "\n",
        "  def __len__(self):\n",
        "    return self.pages\n",
        "\n",
        ""
      ],
      "metadata": {
        "id": "w9t0Ea3RqjQg"
      },
      "execution_count": 41,
      "outputs": []
    },
    {
      "cell_type": "code",
      "source": [
        "candide = Book(\"candide\",200)"
      ],
      "metadata": {
        "id": "6v8qhROsrPWM"
      },
      "execution_count": 42,
      "outputs": []
    },
    {
      "cell_type": "code",
      "source": [
        "str(candide)"
      ],
      "metadata": {
        "colab": {
          "base_uri": "https://localhost:8080/",
          "height": 36
        },
        "id": "BYSr6pXErYJE",
        "outputId": "1e279bd2-5a0e-44b5-c8b7-e58706e23340"
      },
      "execution_count": 43,
      "outputs": [
        {
          "output_type": "execute_result",
          "data": {
            "text/plain": [
              "'this book name is candide'"
            ],
            "application/vnd.google.colaboratory.intrinsic+json": {
              "type": "string"
            }
          },
          "metadata": {},
          "execution_count": 43
        }
      ]
    },
    {
      "cell_type": "code",
      "source": [
        "len(candide)"
      ],
      "metadata": {
        "colab": {
          "base_uri": "https://localhost:8080/"
        },
        "id": "9jRRFBROrY4J",
        "outputId": "a63b5137-2be0-40ae-fa50-6785f27f7e87"
      },
      "execution_count": 44,
      "outputs": [
        {
          "output_type": "execute_result",
          "data": {
            "text/plain": [
              "200"
            ]
          },
          "metadata": {},
          "execution_count": 44
        }
      ]
    },
    {
      "cell_type": "markdown",
      "source": [
        "# wite to a text file"
      ],
      "metadata": {
        "id": "IsZpw3W0sYbo"
      }
    },
    {
      "cell_type": "code",
      "source": [
        "from os import read\n",
        "def write_file(path_file):\n",
        "  with open(path_file, \"w\") as file:\n",
        "    file.write(\"hello this is the first line \\n\")\n",
        "    file.write(\"this is teh second line\")\n",
        "\n",
        "\n",
        "def read_file(path_file):\n",
        "  with open(path_file,\"r\") as file:\n",
        "    content = file.read()\n",
        "    print(content)\n",
        "\n",
        "\n",
        "\n",
        "path_file = 'hello.txt'\n",
        "read_file(path_file)"
      ],
      "metadata": {
        "colab": {
          "base_uri": "https://localhost:8080/"
        },
        "id": "Ehln8ioYrvHy",
        "outputId": "0d714e53-1ef8-469f-e577-b7b77b1108da"
      },
      "execution_count": 48,
      "outputs": [
        {
          "output_type": "stream",
          "name": "stdout",
          "text": [
            "hello this is the first line \n",
            "this is teh second line\n"
          ]
        }
      ]
    },
    {
      "cell_type": "code",
      "source": [
        "from os import read\n",
        "class Word:\n",
        "  def __init__(self, name, path_file):\n",
        "    self.name = name\n",
        "    self.path_file = path_file\n",
        "  def write_file(self,content):\n",
        "    with open(self.path_file, \"w\") as file:\n",
        "      file.write(content)\n",
        "\n",
        "  def read_file(self):\n",
        "    with open(self.path_file,\"r\") as file:\n",
        "      content = file.read()\n",
        "      print(content)\n",
        "\n",
        "  def operation(self, op):\n",
        "    if op == 'r':\n",
        "      self.read_file()\n",
        "    elif op == \"w\":\n",
        "      self.write_file(content=input())\n",
        "    elif op ==\"rw\":\n",
        "      self.read_file()\n",
        "      self.write_file(content=input())\n",
        "    else:\n",
        "      raise ValueError('operation non supported')\n",
        "\n",
        "\n",
        "\n"
      ],
      "metadata": {
        "id": "lF1Gd4ohs356"
      },
      "execution_count": 51,
      "outputs": []
    },
    {
      "cell_type": "code",
      "source": [
        "file1 = Word(\"doc1\",\"hello.txt\")"
      ],
      "metadata": {
        "id": "XE4QrTAAwJTx"
      },
      "execution_count": 52,
      "outputs": []
    },
    {
      "cell_type": "code",
      "source": [
        "file1.operation('w')\n",
        "file1.operation('r')"
      ],
      "metadata": {
        "colab": {
          "base_uri": "https://localhost:8080/"
        },
        "id": "DPrw3Ul1wzMc",
        "outputId": "2798561b-8361-4cc9-c985-b841d8dba51d"
      },
      "execution_count": 55,
      "outputs": [
        {
          "output_type": "stream",
          "name": "stdout",
          "text": [
            "hello\n",
            "hello\n"
          ]
        }
      ]
    },
    {
      "cell_type": "code",
      "source": [
        "file1.operation('rw')"
      ],
      "metadata": {
        "colab": {
          "base_uri": "https://localhost:8080/"
        },
        "id": "_ItbedUnxeE7",
        "outputId": "6085f36c-014d-4d6f-975d-753b02af38f4"
      },
      "execution_count": 56,
      "outputs": [
        {
          "name": "stdout",
          "output_type": "stream",
          "text": [
            "hello\n",
            "adhzbefluiehrgkoerg^mehgpeuvhmerphergfperlufherifbpeiurherpfiuehzpfiuzeghfpuzilgfpzieagfizeulfz\n"
          ]
        }
      ]
    },
    {
      "cell_type": "code",
      "source": [
        "file1.operation(\"r\")"
      ],
      "metadata": {
        "colab": {
          "base_uri": "https://localhost:8080/"
        },
        "id": "34iT0UZAxjxw",
        "outputId": "cc53f690-7c69-4bfd-e277-7f6b1778c7d3"
      },
      "execution_count": 57,
      "outputs": [
        {
          "output_type": "stream",
          "name": "stdout",
          "text": [
            "adhzbefluiehrgkoerg^mehgpeuvhmerphergfperlufherifbpeiurherpfiuehzpfiuzeghfpuzilgfpzieagfizeulfz\n"
          ]
        }
      ]
    },
    {
      "cell_type": "code",
      "source": [
        "file1.operation(\"x\")"
      ],
      "metadata": {
        "colab": {
          "base_uri": "https://localhost:8080/",
          "height": 270
        },
        "id": "CoKL9Yf3xpMH",
        "outputId": "ce8a8f99-3a34-4a0e-962f-f459459431a2"
      },
      "execution_count": 58,
      "outputs": [
        {
          "output_type": "error",
          "ename": "ValueError",
          "evalue": "operation non supported",
          "traceback": [
            "\u001b[0;31m---------------------------------------------------------------------------\u001b[0m",
            "\u001b[0;31mValueError\u001b[0m                                Traceback (most recent call last)",
            "\u001b[0;32m<ipython-input-58-c9515634b075>\u001b[0m in \u001b[0;36m<cell line: 0>\u001b[0;34m()\u001b[0m\n\u001b[0;32m----> 1\u001b[0;31m \u001b[0mfile1\u001b[0m\u001b[0;34m.\u001b[0m\u001b[0moperation\u001b[0m\u001b[0;34m(\u001b[0m\u001b[0;34m\"x\"\u001b[0m\u001b[0;34m)\u001b[0m\u001b[0;34m\u001b[0m\u001b[0;34m\u001b[0m\u001b[0m\n\u001b[0m",
            "\u001b[0;32m<ipython-input-51-3d188579f6c5>\u001b[0m in \u001b[0;36moperation\u001b[0;34m(self, op)\u001b[0m\n\u001b[1;32m     22\u001b[0m       \u001b[0mself\u001b[0m\u001b[0;34m.\u001b[0m\u001b[0mwrite_file\u001b[0m\u001b[0;34m(\u001b[0m\u001b[0mcontent\u001b[0m\u001b[0;34m=\u001b[0m\u001b[0minput\u001b[0m\u001b[0;34m(\u001b[0m\u001b[0;34m)\u001b[0m\u001b[0;34m)\u001b[0m\u001b[0;34m\u001b[0m\u001b[0;34m\u001b[0m\u001b[0m\n\u001b[1;32m     23\u001b[0m     \u001b[0;32melse\u001b[0m\u001b[0;34m:\u001b[0m\u001b[0;34m\u001b[0m\u001b[0;34m\u001b[0m\u001b[0m\n\u001b[0;32m---> 24\u001b[0;31m       \u001b[0;32mraise\u001b[0m \u001b[0mValueError\u001b[0m\u001b[0;34m(\u001b[0m\u001b[0;34m'operation non supported'\u001b[0m\u001b[0;34m)\u001b[0m\u001b[0;34m\u001b[0m\u001b[0;34m\u001b[0m\u001b[0m\n\u001b[0m\u001b[1;32m     25\u001b[0m \u001b[0;34m\u001b[0m\u001b[0m\n\u001b[1;32m     26\u001b[0m \u001b[0;34m\u001b[0m\u001b[0m\n",
            "\u001b[0;31mValueError\u001b[0m: operation non supported"
          ]
        }
      ]
    },
    {
      "cell_type": "code",
      "source": [],
      "metadata": {
        "id": "Zf1dy7kDxuBL"
      },
      "execution_count": null,
      "outputs": []
    }
  ]
}