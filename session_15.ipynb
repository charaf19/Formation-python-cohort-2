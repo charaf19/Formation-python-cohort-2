{
  "cells": [
    {
      "cell_type": "markdown",
      "metadata": {
        "id": "XqNKqJ_xz_Ks"
      },
      "source": [
        "# Exercice 1\n",
        "\n"
      ]
    },
    {
      "cell_type": "markdown",
      "metadata": {
        "id": "6vo9THGh0FBc"
      },
      "source": [
        "Tu dois modéliser un système de bibliothèque numérique qui gère différents types de livres (livres papier, e-books).\n",
        "\n",
        "* Chaque Livre possède : titre, auteur, année.\n",
        "\n",
        "* Un LivrePapier ajoute : nombre_de_pages.\n",
        "\n",
        "* Un EBook ajoute : taille_fichier (en Mo) et format_fichier (pdf, epub, etc).\n",
        "\n",
        "La bibliothèque doit permettre :\n",
        "\n",
        "\n",
        "*   Ajouter un livre\n",
        "*   Supprimer un livre\n",
        "*   Afficher tous les livres\n",
        "*   Rechercher un livre par titre\n",
        "\n",
        "\n",
        "\n",
        "\n",
        "\n",
        "\n",
        "\n",
        "\n",
        "Utilise de l’héritage, de l’encapsulation et un peu de polymorphisme."
      ]
    },
    {
      "cell_type": "code",
      "execution_count": null,
      "metadata": {
        "colab": {
          "background_save": true,
          "base_uri": "https://localhost:8080/"
        },
        "id": "p8g1zJ-lzsRI",
        "outputId": "bd448ead-63c7-4b05-d354-b0333d89b756"
      },
      "outputs": [
        {
          "name": "stdout",
          "output_type": "stream",
          "text": [
            "livre non trouvé\n",
            "j ai trouvé le livre\n",
            "le titre:candide de charaf - 1976\n",
            "c'est un livre en papier avec 200 pages\n",
            "le titre:miserables de charaf - 1987\n",
            "c'est un ebook de taille 100 et avec un format .pub\n",
            "--------\n",
            "le titre:candide de charaf - 1976\n",
            "c'est un livre en papier avec 200 pages\n",
            "--------\n",
            "it does not exist\n",
            "candide has been deleted\n",
            "livre non trouvé\n"
          ]
        }
      ],
      "source": [
        "class Livre:\n",
        "  def __init__(self,titre,auteur,annee):\n",
        "    self._titre = titre\n",
        "    self._auteur= auteur\n",
        "    self._annee = annee\n",
        "\n",
        "  def afficher_info(self):\n",
        "    print(f\"le titre:{self._titre} de {self._auteur} - {self._annee}\")\n",
        "\n",
        "\n",
        "\n",
        "class EBook(Livre):\n",
        "  def __init__(self,titre, auteur, annee, taille_fichier, format_fichier):\n",
        "    super().__init__(titre, auteur, annee)\n",
        "    self._taille_fichier = taille_fichier\n",
        "    self._format_fichier = format_fichier\n",
        "\n",
        "  def afficher_info(self):\n",
        "    super().afficher_info()\n",
        "    print(f\"c'est un ebook de taille {self._taille_fichier} et avec un format {self._format_fichier}\")\n",
        "\n",
        "\n",
        "class LivrePapier(Livre):\n",
        "  def __init__(self,titre, auteur, annee, nombre_de_pages):\n",
        "    super().__init__(titre, auteur, annee)\n",
        "    self._nombre_de_pages = nombre_de_pages\n",
        "  def afficher_info(self):\n",
        "    super().afficher_info()\n",
        "    print(f\"c'est un livre en papier avec {self._nombre_de_pages} pages\")\n",
        "\n",
        "\n",
        "\n",
        "class Bibliotheque:\n",
        "  def __init__(self):\n",
        "    self._livres = []\n",
        "  def ajouter_livre(self,livre):\n",
        "    self._livres.append(livre)\n",
        "  def afficher_livres(self):\n",
        "    for livre in self._livres:\n",
        "      livre.afficher_info()\n",
        "      print(\"--------\")\n",
        "  def suprimer_livre(self,livre_sup):\n",
        "    for livre in self._livres:\n",
        "      if livre._titre.lower()==livre_sup.lower() :\n",
        "        self._livres.remove(livre)\n",
        "        print(f\"{livre_sup} has been deleted\")\n",
        "      else:\n",
        "        print(\"it does not exist\")\n",
        "\n",
        "  def rechercher_livre(self,titre):\n",
        "    for livre in self._livres:\n",
        "      if livre._titre.lower() == titre.lower():\n",
        "        livre.afficher_info()\n",
        "        print(\"j \")\n",
        "      else:\n",
        "        print(\"livre non trouvé\")\n",
        "\n",
        "\n",
        "biblio = Bibliotheque()\n",
        "candide = LivrePapier(\"candide\", \"charaf\",1976,200)\n",
        "miserables = EBook(\"miserables\",'charaf',1987, 100, \".pub\")\n",
        "\n",
        "biblio.ajouter_livre(miserables)\n",
        "biblio.ajouter_livre(candide)\n",
        "\n",
        "biblio.rechercher_livre(\"candide\")\n",
        "\n",
        "biblio.afficher_livres()\n",
        "biblio.suprimer_livre(\"candide\")\n",
        "\n",
        "biblio.rechercher_livre(\"candide\")\n",
        "\n"
      ]
    },
    {
      "cell_type": "markdown",
      "source": [
        " Exercice 2 : Système de Paiement Multimodal\n",
        "✏️ Énoncé\n",
        "Créer un système qui gère différents types de paiement :\n",
        "\n",
        "Paiement par Carte Bancaire\n",
        "\n",
        "Paiement par PayPal\n",
        "\n",
        "Paiement par Crypto-monnaie\n",
        "\n",
        "Chaque mode de paiement a ses propres règles de validation et traitement.\n",
        "\n",
        "📋 Concepts OOP attendus :\n",
        "Interface (abstractmethod) pour Paiement\n",
        "\n",
        "Héritage pour chaque type de paiement\n",
        "\n",
        "Encapsulation des informations sensibles\n",
        "\n",
        "Polymorphisme sur la validation"
      ],
      "metadata": {
        "id": "FfFNl2gAtVz9"
      }
    },
    {
      "cell_type": "code",
      "source": [],
      "metadata": {
        "id": "lMRN4dtMu6dk"
      },
      "execution_count": null,
      "outputs": []
    },
    {
      "cell_type": "code",
      "execution_count": null,
      "metadata": {
        "id": "RsDtIS9o5ejQ",
        "colab": {
          "base_uri": "https://localhost:8080/"
        },
        "outputId": "b9766cea-8097-4040-dd52-46bb5eedf29a"
      },
      "outputs": [
        {
          "output_type": "stream",
          "name": "stdout",
          "text": [
            "Paiemant de montnat 20 par une carte bancaire avec le numero 098562374623426 \n",
            "Paiemant de montnat 20 par une carte bancaire avec le numero 6efjbrgbzevherifbe \n",
            "Paiemant de montnat 20 par ppl avec l'email char@gmail.com \n"
          ]
        }
      ],
      "source": [
        "from abc import abstractmethod,ABC\n",
        "\n",
        "#interface abstraite (interface)\n",
        "class Paiement(ABC):\n",
        "  @abstractmethod\n",
        "  def payer(self,montant):\n",
        "    pass\n",
        "\n",
        "\n",
        "class CarteBancaire (Paiement):\n",
        "  #constructor\n",
        "  def __init__(self,numero,expiration,cvv):\n",
        "    self._numero = numero\n",
        "    self._expiration = expiration\n",
        "    self._cvv = cvv\n",
        "  def set_num(self,numero):\n",
        "    self._numero = numero\n",
        "  def get_numero(self):\n",
        "    return self._numero\n",
        "  def payer(self, montant):\n",
        "    print(f\"Paiemant de montnat {montant} par une carte bancaire avec le numero {self._numero} \")\n",
        "\n",
        "\n",
        "class Paypal(Paiement):\n",
        "  def __init__(self,email):\n",
        "    self._email = email\n",
        "  def payer(self,montant):\n",
        "    print(f\"Paiemant de montnat {montant} par ppl avec l'email { self._email} \")\n",
        "\n",
        "\n",
        "class CryptoMonnaie(Paiement):\n",
        "  def __init__(self,addresse_wallet):\n",
        "    self._addresse_wallet = addresse_wallet\n",
        "\n",
        "  def payer(self,montant):\n",
        "    self._addresse_wallet = \"fenzoferfbeiurfbzjifn\"\n",
        "    print(f\"Paiemant de montnat {montant} par btc depuis  { self._addresse_wallet} \")\n",
        "\n",
        "cih = CarteBancaire('098562374623426',\"2029\",\"012\")\n",
        "bmce = CarteBancaire('6efjbrgbzevherifbe',\"2029\",\"012\")\n",
        "cih.payer(20)\n",
        "bmce.payer(20)\n",
        "\n",
        "bmce.numero\n",
        "\n",
        "cmpt_ppl= Paypal(\"char@gmail.com\")\n",
        "cmpt_ppl.payer(20)"
      ]
    },
    {
      "cell_type": "markdown",
      "source": [
        "🚀 Exercice 3 : Simulation d'un Zoo Interactif\n",
        "✏️ Énoncé\n",
        "Tu dois modéliser un zoo où :\n",
        "\n",
        "Chaque animal a un comportement de parler différent.\n",
        "\n",
        "Les animaux peuvent être affamés ou rassasiés.\n",
        "\n",
        "Certains animaux sont domestiques, d'autres sauvages.\n",
        "\n",
        "📋 Concepts OOP attendus :\n",
        "Abstraction de la classe Animal\n",
        "\n",
        "Héritage (chien, tigre, oiseau, etc.)\n",
        "\n",
        "Attributs encapsulés (_faim)\n",
        "\n",
        "Polymorphisme sur les méthodes parler et manger"
      ],
      "metadata": {
        "id": "aSFYA_mks9Is"
      }
    },
    {
      "cell_type": "code",
      "source": [
        "from abc import ABC , abstrectmethod\n",
        "\n",
        "class Animal(ABC):\n",
        "  def __init__(self, nom,faim):\n",
        "    self._nom = nom\n",
        "    self._faim = faim\n",
        "  @abstractmethod\n",
        "  def parler(self):\n",
        "    pass\n",
        "  def manger(self):\n",
        "    if self._faim:\n",
        "      print(\"i eat\")\n",
        "      self._faim=False\n",
        "    else:\n",
        "      print('am not hungry')\n",
        "class Chien(Animal):\n",
        "  def __init__(self, name,faim):\n",
        "    super().__init__(self,faim)\n",
        "    self._nom  = name\n",
        "  def getName(self):\n",
        "    return self._nom\n",
        "  def setf\n"
      ],
      "metadata": {
        "id": "gHzghnAJwU3p"
      },
      "execution_count": null,
      "outputs": []
    },
    {
      "cell_type": "code",
      "source": [
        "ax+b=0\n",
        "x=-b/a"
      ],
      "metadata": {
        "colab": {
          "base_uri": "https://localhost:8080/",
          "height": 106
        },
        "id": "w_YqigFA49as",
        "outputId": "dd1e747c-03eb-4d4f-a03f-f269efa885c6"
      },
      "execution_count": 1,
      "outputs": [
        {
          "output_type": "error",
          "ename": "SyntaxError",
          "evalue": "cannot assign to expression here. Maybe you meant '==' instead of '='? (<ipython-input-1-e1ec83774b99>, line 1)",
          "traceback": [
            "\u001b[0;36m  File \u001b[0;32m\"<ipython-input-1-e1ec83774b99>\"\u001b[0;36m, line \u001b[0;32m1\u001b[0m\n\u001b[0;31m    ax+b=0\u001b[0m\n\u001b[0m    ^\u001b[0m\n\u001b[0;31mSyntaxError\u001b[0m\u001b[0;31m:\u001b[0m cannot assign to expression here. Maybe you meant '==' instead of '='?\n"
          ]
        }
      ]
    },
    {
      "cell_type": "code",
      "source": [
        "a = int(input('please neter the coeficient   \"A\" in the equation ax+b=0'))\n",
        "b = int(input('please neter the coeficient   \"B\" in the equation ax+b=0'))\n",
        "x=float(-(b/a))\n",
        "print(f\"the solution of the equation as following :{x}\")"
      ],
      "metadata": {
        "colab": {
          "base_uri": "https://localhost:8080/"
        },
        "id": "Ttq5kJBB5AUV",
        "outputId": "2fae8aa5-345d-4067-d744-7f3a18ff9ee7"
      },
      "execution_count": 3,
      "outputs": [
        {
          "output_type": "stream",
          "name": "stdout",
          "text": [
            "please neter the coeficient   \"A\" in the equation ax+b=02\n",
            "please neter the coeficient   \"B\" in the equation ax+b=03\n",
            "the solution of the equation as following :-1.5\n"
          ]
        }
      ]
    },
    {
      "cell_type": "code",
      "source": [],
      "metadata": {
        "id": "inNL9HuU5snJ"
      },
      "execution_count": null,
      "outputs": []
    }
  ],
  "metadata": {
    "colab": {
      "provenance": []
    },
    "kernelspec": {
      "display_name": "Python 3",
      "name": "python3"
    },
    "language_info": {
      "name": "python"
    }
  },
  "nbformat": 4,
  "nbformat_minor": 0
}