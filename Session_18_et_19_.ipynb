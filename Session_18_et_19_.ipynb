{
  "nbformat": 4,
  "nbformat_minor": 0,
  "metadata": {
    "colab": {
      "provenance": []
    },
    "kernelspec": {
      "name": "python3",
      "display_name": "Python 3"
    },
    "language_info": {
      "name": "python"
    }
  },
  "cells": [
    {
      "cell_type": "markdown",
      "source": [
        "# Classes and Object"
      ],
      "metadata": {
        "id": "HwkbMCko4xP6"
      }
    },
    {
      "cell_type": "code",
      "execution_count": null,
      "metadata": {
        "colab": {
          "base_uri": "https://localhost:8080/"
        },
        "id": "f2d0zqza4t5P",
        "outputId": "72efacd2-84d9-4c90-b5fb-0da196233166"
      },
      "outputs": [
        {
          "output_type": "stream",
          "name": "stdout",
          "text": [
            "hello charaf and you age is 20\n"
          ]
        }
      ],
      "source": [
        "class Person:\n",
        "  #constructor definition\n",
        "  # __init__ is the constructor; \"self\" refers to the current object.\n",
        "  def __init__(self, name, age):\n",
        "    self.smia = name\n",
        "    self.amer = age\n",
        "  def greet(self):\n",
        "    print(f\"hello {self.smia} and you age is {self.amer}\")\n",
        "\n",
        "# Objects are instances of classes and encapsulate data + behavior.\n",
        "var_p = Person(\"charaf\",20)\n",
        "var_p.greet()"
      ]
    },
    {
      "cell_type": "markdown",
      "source": [
        "# Encapsulation (Data Hiding)"
      ],
      "metadata": {
        "id": "H90eT3SS-h_n"
      }
    },
    {
      "cell_type": "code",
      "source": [
        "class BankAccount:\n",
        "  def __init__(self,balance):\n",
        "    self.__balance = balance\n",
        "\n",
        "# it's a setter (it sets value for a private variable)\n",
        "  def deposit(self,amount):\n",
        "    if amount>0:\n",
        "      self.__balance += amount\n",
        "# it's a getter (it gets value from a private variable)\n",
        "  def get_balance(self):\n",
        "    return self.__balance\n",
        "#two objects from one single class BankAccount\n",
        "account1 = BankAccount(1000)\n",
        "account2 = BankAccount(3000)\n",
        "account1.deposit(1000)"
      ],
      "metadata": {
        "id": "7MnXS9zR6V45"
      },
      "execution_count": null,
      "outputs": []
    },
    {
      "cell_type": "code",
      "source": [
        "print(account2.get_balance())"
      ],
      "metadata": {
        "colab": {
          "base_uri": "https://localhost:8080/"
        },
        "id": "K7rGpLSJBEhc",
        "outputId": "6e534eb0-f71a-4db3-b409-1275d0760786"
      },
      "execution_count": null,
      "outputs": [
        {
          "output_type": "stream",
          "name": "stdout",
          "text": [
            "3000\n"
          ]
        }
      ]
    },
    {
      "cell_type": "code",
      "source": [
        "account2.deposit(200)"
      ],
      "metadata": {
        "id": "7KCjSM0IBPmX"
      },
      "execution_count": null,
      "outputs": []
    },
    {
      "cell_type": "code",
      "source": [
        "print(account2.get_balance())"
      ],
      "metadata": {
        "colab": {
          "base_uri": "https://localhost:8080/"
        },
        "id": "53lz0gupBTUi",
        "outputId": "14cbc2e0-e6cc-4ccd-e2ff-e3f6e5e164f6"
      },
      "execution_count": null,
      "outputs": [
        {
          "output_type": "stream",
          "name": "stdout",
          "text": [
            "3200\n"
          ]
        }
      ]
    },
    {
      "cell_type": "code",
      "source": [
        "print(account1.get_balance())"
      ],
      "metadata": {
        "colab": {
          "base_uri": "https://localhost:8080/"
        },
        "id": "ZnM0YiVzAqLI",
        "outputId": "52cbb0a4-ad13-4fbb-d4be-d3ad66bc3229"
      },
      "execution_count": null,
      "outputs": [
        {
          "output_type": "stream",
          "name": "stdout",
          "text": [
            "2000\n"
          ]
        }
      ]
    },
    {
      "cell_type": "markdown",
      "source": [
        "# Inheritance"
      ],
      "metadata": {
        "id": "xwItW_fQBjGC"
      }
    },
    {
      "cell_type": "code",
      "source": [
        "class Animal:\n",
        "  def __init__(self,name):\n",
        "    self.name = name\n",
        "\n",
        "  def speak(self):\n",
        "    return \"who who\"\n",
        "# Inheritance allows a class to reuse code from a parent class.\n",
        "\n",
        "class Dog(Animal):\n",
        "  def __init__(self, name):\n",
        "    super().__init__(name)\n",
        "  #  You can override parent methods to customize behavior (speak).\n",
        "  def speak(self):\n",
        "    return \"whoof\"\n",
        "d = Dog(\"rockie\")\n",
        "\n",
        "d.speak()"
      ],
      "metadata": {
        "id": "RMgVTB-JAyCk",
        "colab": {
          "base_uri": "https://localhost:8080/",
          "height": 35
        },
        "outputId": "8cacc49f-38fe-4aac-b2a2-b695fcbae226"
      },
      "execution_count": null,
      "outputs": [
        {
          "output_type": "execute_result",
          "data": {
            "text/plain": [
              "'whoof'"
            ],
            "application/vnd.google.colaboratory.intrinsic+json": {
              "type": "string"
            }
          },
          "metadata": {},
          "execution_count": 4
        }
      ]
    },
    {
      "cell_type": "markdown",
      "source": [
        "# Polymorphism\n"
      ],
      "metadata": {
        "id": "i4_thfiNtNS9"
      }
    },
    {
      "cell_type": "code",
      "source": [
        "class Rectangle:\n",
        "  def shape(self):\n",
        "    return \"rectangle\"\n",
        "\n",
        "\n",
        "class Carre:\n",
        "  def shape(self):\n",
        "    return \"Carre\"\n",
        "\n",
        "def draw(object):\n",
        "  print(f' this is a {object.shape()}')\n",
        "\n",
        "\n",
        "\n",
        "\n",
        "c = Rectangle()\n",
        "\n",
        "care= Carre()\n",
        "\n",
        "draw(c)"
      ],
      "metadata": {
        "id": "ZglpwOBus5Uu",
        "colab": {
          "base_uri": "https://localhost:8080/"
        },
        "outputId": "cb2e20a3-3668-40da-a021-56ab042534c3"
      },
      "execution_count": null,
      "outputs": [
        {
          "output_type": "stream",
          "name": "stdout",
          "text": [
            " this is a rectangle\n"
          ]
        }
      ]
    },
    {
      "cell_type": "markdown",
      "source": [
        "🧠 Exercise: Polymorphism in an Animal Simulation\n",
        "\n",
        "\n",
        "\n",
        "🔸 Problem Statement:\n",
        "You're building a zoo simulation. Each animal can make a sound, and you want to use polymorphism to implement this behavior. You need to:\n",
        "\n",
        "✅ Tasks:\n",
        "Create a base class called Animal with a method make_sound()\n",
        "\n",
        "Create at least three subclasses:\n",
        "\n",
        "Lion → sound: \"Roaaar\"\n",
        "\n",
        "Snake → sound: \"Hisss\"\n",
        "\n",
        "Monkey → sound: \"Oo oo aa aa!\"\n",
        "\n",
        "Write a function animal_sound(animal) that:\n",
        "\n",
        "Accepts any object of type Animal\n",
        "\n",
        "Calls its make_sound() method and prints the sound\n",
        "\n",
        "Create a list of different animal objects and loop through them using animal_sound.\n",
        "\n"
      ],
      "metadata": {
        "id": "6U8E3LaRycHw"
      }
    },
    {
      "cell_type": "code",
      "source": [
        "class Lion:\n",
        "  def sound(self):\n",
        "    return \"Roaaar\"\n",
        "\n",
        "class Snake:\n",
        "  def sound(self):\n",
        "    return \"Hisss\"\n",
        "\n",
        "\n",
        "class Monkey:\n",
        "  def sound(self):\n",
        "    return  \"Oo oo aa aa!\"\n",
        "\n",
        "\n",
        "\n",
        "def make_sound(object):\n",
        "  print(f\"{object.sound()}\")\n",
        "\n",
        "\n",
        "\n",
        "l = Lion()\n",
        "\n",
        "s= Snake()\n",
        "\n",
        "m = Monkey()\n",
        "\n",
        "\n",
        "make_sound(m)"
      ],
      "metadata": {
        "colab": {
          "base_uri": "https://localhost:8080/"
        },
        "id": "hhQo4yepyb3g",
        "outputId": "17d3de65-8bea-40e3-9e64-546a7325248b"
      },
      "execution_count": null,
      "outputs": [
        {
          "output_type": "stream",
          "name": "stdout",
          "text": [
            "Oo oo aa aa!\n"
          ]
        }
      ]
    },
    {
      "cell_type": "markdown",
      "source": [
        "# Abstraction (with Abstract Base Class)"
      ],
      "metadata": {
        "id": "YcvSaf9-2u0l"
      }
    },
    {
      "cell_type": "code",
      "source": [
        "from abc import ABC , abstractmethod\n",
        "\n",
        "class Vehicule(ABC):\n",
        "  @abstractmethod\n",
        "  def start_engine(self):\n",
        "    pass\n",
        "\n",
        "class Car(Vehicule):\n",
        "  def start_engine(self):\n",
        "    print(\"engine started\")\n",
        "\n",
        "\n",
        "car = Car()\n",
        "\n",
        "car.start_engine()\n"
      ],
      "metadata": {
        "colab": {
          "base_uri": "https://localhost:8080/"
        },
        "id": "g1cuuL12yEqz",
        "outputId": "034ef9a0-9ba0-4ee2-ce75-ff819a4086bb"
      },
      "execution_count": null,
      "outputs": [
        {
          "output_type": "stream",
          "name": "stdout",
          "text": [
            "engine started\n"
          ]
        }
      ]
    },
    {
      "cell_type": "markdown",
      "source": [
        "Exercise: Abstract Shape Drawing Tool\n",
        "\n",
        "\n",
        "\n",
        "\n",
        "🔸 Problem Statement:\n",
        "You are creating a drawing tool that supports different shapes. All shapes should have a method to:\n",
        "\n",
        "calculate the area\n",
        "\n",
        "display the shape name\n",
        "\n",
        "To enforce this, you'll use abstraction via an abstract base class.\n",
        "\n"
      ],
      "metadata": {
        "id": "Mz7r9LhR80Ib"
      }
    },
    {
      "cell_type": "markdown",
      "source": [
        "\n",
        "\n",
        "1. Create an abstract class Shape with two  abstract methods:\n",
        "\n",
        "\n",
        "\n",
        "* area() → returns a float\n",
        "\n",
        "* display() → prints the shape name\n",
        "\n",
        "2. Implement three concrete classes that inherit from Shape:\n",
        "\n",
        "* Circle (with radius)\n",
        "\n",
        "* Rectangle (with width and height)\n",
        "\n",
        "* Triangle (with base and height)\n",
        "\n",
        "3. Write a function shape_info(shape) that:\n",
        "\n",
        "* Calls display() and prints the area() result\n",
        "\n",
        "4. Create a list of different shapes and loop through them using shape_info().\n",
        "\n",
        "\n"
      ],
      "metadata": {
        "id": "Fj98DyDg883Z"
      }
    },
    {
      "cell_type": "code",
      "source": [],
      "metadata": {
        "id": "7DyUatp388lK"
      },
      "execution_count": null,
      "outputs": []
    },
    {
      "cell_type": "code",
      "source": [
        "from abc import ABC , abstractmethod\n",
        "import math\n",
        "\n",
        "class Shape(ABC):\n",
        "  @abstractmethod\n",
        "  def display(self):\n",
        "    pass\n",
        "\n",
        "  @abstractmethod\n",
        "  def area(self):\n",
        "    pass\n",
        "\n",
        "\n",
        "class Circle(Shape):\n",
        "\n",
        "  def __init__(self,radius):\n",
        "    self.radius = radius\n",
        "\n",
        "  def area(self):\n",
        "    return math.pi * self.radius **2\n",
        "\n",
        "  def display(self):\n",
        "    print(\"Shape : Circle\")\n",
        "\n",
        "class Rectangle(Shape):\n",
        "  def __init__(self,width, height):\n",
        "    self.width = width\n",
        "    self.height = height\n",
        "\n",
        "  def area(self):\n",
        "    return self.width  * self.height\n",
        "\n",
        "  def display(self):\n",
        "    print(\"shape : Rectangle\")\n",
        "\n",
        "def shape_info(shape: Shape):\n",
        "  shape.display()\n",
        "  print(f\"Area: {shape.area()}\")\n",
        "\n",
        "\n",
        "object_circle  = Circle(radius=5)\n",
        "r= Rectangle(width=12,height=12)\n",
        "\n",
        "shape_info(object_circle)"
      ],
      "metadata": {
        "colab": {
          "base_uri": "https://localhost:8080/"
        },
        "id": "8iBjRDSR8oN5",
        "outputId": "2115d706-2ead-42c7-e8ba-2ed7a7ad4d1b"
      },
      "execution_count": null,
      "outputs": [
        {
          "output_type": "stream",
          "name": "stdout",
          "text": [
            "Shape : Circle\n",
            "Area: 78.53981633974483\n"
          ]
        }
      ]
    },
    {
      "cell_type": "markdown",
      "source": [
        "Composition"
      ],
      "metadata": {
        "id": "QLOS4R-0CrVM"
      }
    },
    {
      "cell_type": "code",
      "source": [
        "class Engine:\n",
        "  def __init__(self,cylindre):\n",
        "    self.cylindre = cylindre\n",
        "  def start(self):\n",
        "    return \"engine started\"\n",
        "\n",
        "\n",
        "v6 = Engine(\"v9\")\n",
        "\n",
        "class Car:\n",
        "  def __init__(self):\n",
        "    self.engine = Engine(\"V8\")\n",
        "\n",
        "  def start(self):\n",
        "    print(self.engine.start())\n",
        "\n",
        "\n",
        "\n",
        "car = Car()\n",
        "car.engine.cylindre\n",
        "\n",
        "\n",
        "car.engine=v6\n",
        "car.engine.cylindre\n"
      ],
      "metadata": {
        "colab": {
          "base_uri": "https://localhost:8080/",
          "height": 198
        },
        "id": "2zsqGkIKCq6h",
        "outputId": "c710ad21-2001-445d-b92d-73cb6e241727"
      },
      "execution_count": null,
      "outputs": [
        {
          "output_type": "error",
          "ename": "NameError",
          "evalue": "name 'v6' is not defined",
          "traceback": [
            "\u001b[0;31m---------------------------------------------------------------------------\u001b[0m",
            "\u001b[0;31mNameError\u001b[0m                                 Traceback (most recent call last)",
            "\u001b[0;32m<ipython-input-1-bdb3c68dfef9>\u001b[0m in \u001b[0;36m<cell line: 0>\u001b[0;34m()\u001b[0m\n\u001b[1;32m     21\u001b[0m \u001b[0;34m\u001b[0m\u001b[0m\n\u001b[1;32m     22\u001b[0m \u001b[0;34m\u001b[0m\u001b[0m\n\u001b[0;32m---> 23\u001b[0;31m \u001b[0mcar\u001b[0m\u001b[0;34m.\u001b[0m\u001b[0mengine\u001b[0m\u001b[0;34m=\u001b[0m\u001b[0mv6\u001b[0m\u001b[0;34m\u001b[0m\u001b[0;34m\u001b[0m\u001b[0m\n\u001b[0m\u001b[1;32m     24\u001b[0m \u001b[0mcar\u001b[0m\u001b[0;34m.\u001b[0m\u001b[0mengine\u001b[0m\u001b[0;34m.\u001b[0m\u001b[0mcylindre\u001b[0m\u001b[0;34m\u001b[0m\u001b[0;34m\u001b[0m\u001b[0m\n",
            "\u001b[0;31mNameError\u001b[0m: name 'v6' is not defined"
          ]
        }
      ]
    },
    {
      "cell_type": "code",
      "source": [],
      "metadata": {
        "id": "Pk33uX5eBosc"
      },
      "execution_count": null,
      "outputs": []
    }
  ]
}