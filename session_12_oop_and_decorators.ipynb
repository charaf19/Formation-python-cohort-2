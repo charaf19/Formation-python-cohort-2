{
  "nbformat": 4,
  "nbformat_minor": 0,
  "metadata": {
    "colab": {
      "provenance": []
    },
    "kernelspec": {
      "name": "python3",
      "display_name": "Python 3"
    },
    "language_info": {
      "name": "python"
    }
  },
  "cells": [
    {
      "cell_type": "code",
      "execution_count": 30,
      "metadata": {
        "colab": {
          "base_uri": "https://localhost:8080/"
        },
        "id": "cAj0nOrKST7g",
        "outputId": "75e7c4bf-c9a3-426c-f9db-8ab76408f7e1"
      },
      "outputs": [
        {
          "output_type": "stream",
          "name": "stdout",
          "text": [
            "the error:division by zero\n"
          ]
        }
      ],
      "source": [
        "\n",
        "class User:\n",
        "  def __init__(self,name,date_of_birth):\n",
        "    self.name = name\n",
        "    self.date_of_birth = date_of_birth\n",
        "  @property\n",
        "  def age(self):\n",
        "    from datetime import datetime\n",
        "    return datetime.now().year - self.date_of_birth\n",
        "\n",
        "\n",
        "charaf =  User(\"charaf\", 1999)\n",
        "try:\n",
        "  print(charaf.age/0)\n",
        "except ZeroDivisionError as e:\n",
        "  print(f'the error:{e}')\n"
      ]
    },
    {
      "cell_type": "code",
      "source": [
        "class Gun:\n",
        "  marque = \"x1\"\n",
        "\n",
        "  def __init__(self, name ):\n",
        "    self.name = name\n",
        "  @classmethod\n",
        "  def from_string(cls,name_str):\n",
        "    return cls(name_str.title())\n",
        "\n",
        "gun1 = Gun.from_string(\"gloc 9\")\n",
        "print(gun1.name)\n",
        "print(gun1.marque)"
      ],
      "metadata": {
        "colab": {
          "base_uri": "https://localhost:8080/"
        },
        "id": "j1lDEd9OUvTy",
        "outputId": "f76ba653-fdb7-4ccb-9878-953ff4e149c3"
      },
      "execution_count": 12,
      "outputs": [
        {
          "output_type": "stream",
          "name": "stdout",
          "text": [
            "Gloc 9\n",
            "x1\n"
          ]
        }
      ]
    },
    {
      "cell_type": "code",
      "source": [
        "class Math:\n",
        "  @staticmethod\n",
        "  def add(a,b):\n",
        "    return a+b\n",
        "\n",
        "print(Math.add(3,5))"
      ],
      "metadata": {
        "colab": {
          "base_uri": "https://localhost:8080/"
        },
        "id": "E0TD2HzCWzZx",
        "outputId": "94140fd7-a7dc-415f-969f-41698b5618af"
      },
      "execution_count": 13,
      "outputs": [
        {
          "output_type": "stream",
          "name": "stdout",
          "text": [
            "8\n"
          ]
        }
      ]
    },
    {
      "cell_type": "code",
      "source": [
        "class Car:\n",
        "  @staticmethod\n",
        "  def move(distanceA, distanceB):\n",
        "    distance = distanceB - distanceA\n",
        "    return f\"the car moved {distance} km \"\n",
        "\n",
        "\n",
        "print(Car.move(2000, 300000))"
      ],
      "metadata": {
        "colab": {
          "base_uri": "https://localhost:8080/"
        },
        "id": "StZ7C_y4YzL7",
        "outputId": "4735ed39-54f3-4d96-bed2-c45eebd7c702"
      },
      "execution_count": 15,
      "outputs": [
        {
          "output_type": "stream",
          "name": "stdout",
          "text": [
            "the car moved 298000 km \n"
          ]
        }
      ]
    },
    {
      "cell_type": "code",
      "source": [
        "from abc import ABC, abstractmethod\n",
        "class Account(ABC):\n",
        "  def __init__(self,owner, balance=0):\n",
        "    self._balance = balance\n",
        "    self.owner  = owner\n",
        "\n",
        "  def deposit(self, amount):\n",
        "    if amount >0:\n",
        "      self.balance += amount\n",
        "      print(f\"the amount of {amount} is deposited and the new balance is {self.balance}\")\n",
        "    else :\n",
        "      print(\"enter a positive value\")\n",
        "  def withdraw(self, amount):\n",
        "    if amount>0:\n",
        "      self.balance -= amount\n",
        "      print(f\"the amount of {amount} is deposited and the new balance is {self.balance}\")\n",
        "    else :\n",
        "      print(\"enter a positive value\")\n",
        "\n",
        "  @property\n",
        "  def balance(self):\n",
        "    return self._balance\n",
        "class Bank:\n",
        "  def __init__(self,name,city):\n",
        "    self.accounts = []\n",
        "    self.name = name\n",
        "    self.city = city\n",
        "\n",
        "  def add_account(self, account):\n",
        "    self.accounts.append(account)\n",
        "    print(f\"Account for {account.owner}\")\n",
        "\n",
        "  def show_balances(self):\n",
        "    for acc in self.accounts:\n",
        "      print(f\"{acc.owner} it's balance valued as : {acc.balance}\")\n",
        "\n",
        "bob = Account(\"bob\",2000)\n",
        "houssam = Account(\"houssam\",3000)\n",
        "\n",
        "cih = Bank(\"cih\",\"agadir\")\n",
        "cih.add_account(bob)\n",
        "cih.add_account(houssam)\n",
        "\n",
        "\n",
        "cih.show_balances()\n",
        ""
      ],
      "metadata": {
        "colab": {
          "base_uri": "https://localhost:8080/"
        },
        "id": "Az5TGPLxZV0W",
        "outputId": "aac725c7-9911-497f-c6fa-6b218de11ba3"
      },
      "execution_count": 33,
      "outputs": [
        {
          "output_type": "stream",
          "name": "stdout",
          "text": [
            "Account for bob\n",
            "Account for houssam\n",
            "bob it's balance valued as : 2000\n",
            "houssam it's balance valued as : 3000\n"
          ]
        }
      ]
    },
    {
      "cell_type": "code",
      "source": [],
      "metadata": {
        "id": "Of_KPXcdfSBv"
      },
      "execution_count": null,
      "outputs": []
    }
  ]
}